{
  "nbformat": 4,
  "nbformat_minor": 0,
  "metadata": {
    "colab": {
      "name": "Untitled0.ipynb",
      "provenance": []
    },
    "kernelspec": {
      "name": "python3",
      "display_name": "Python 3"
    }
  },
  "cells": [
    {
      "cell_type": "markdown",
      "metadata": {
        "id": "v00t5Hik5Ual"
      },
      "source": [
        "**GRIP  The Sparks Foundation**"
      ]
    },
    {
      "cell_type": "markdown",
      "metadata": {
        "id": "WeNyXZdX5uLY"
      },
      "source": [
        "***TASK 1: Prediction using Supervised ML***"
      ]
    },
    {
      "cell_type": "markdown",
      "metadata": {
        "id": "6VBehEid5ue-"
      },
      "source": [
        "Author: **Sweta Latthe**"
      ]
    },
    {
      "cell_type": "markdown",
      "metadata": {
        "id": "WPQTiYe36B0B"
      },
      "source": [
        "**Linear Regression** "
      ]
    },
    {
      "cell_type": "markdown",
      "metadata": {
        "id": "Ougutms36CKj"
      },
      "source": [
        "Basically, In this task I have tried to predict the percentage of marks that a student is expected to score based upon the number of hours they have studied. "
      ]
    },
    {
      "cell_type": "markdown",
      "metadata": {
        "id": "9ybwrRnW6-7d"
      },
      "source": [
        "importing some required libraries"
      ]
    },
    {
      "cell_type": "code",
      "metadata": {
        "id": "FyLCc2z24HJx"
      },
      "source": [
        "from sklearn.model_selection import train_test_split\r\n",
        "from sklearn.linear_model import LinearRegression\r\n",
        "import matplotlib.pyplot as plt\r\n",
        "import pandas as pd\r\n",
        "import numpy as np"
      ],
      "execution_count": 17,
      "outputs": []
    },
    {
      "cell_type": "markdown",
      "metadata": {
        "id": "Y3gPMknk7FlB"
      },
      "source": [
        "reading the data with the provided dataset"
      ]
    },
    {
      "cell_type": "code",
      "metadata": {
        "id": "R9ZZ8Pge4RMI",
        "outputId": "8bf0ad79-cd93-46eb-8547-06cb881d6b80",
        "colab": {
          "base_uri": "https://localhost:8080/",
          "height": 376
        }
      },
      "source": [
        "file=\"http://bit.ly/w-data\"\r\n",
        "data = pd.read_csv(file)\r\n",
        "print(\"Data imported successfully\")\r\n",
        "data.head(10)"
      ],
      "execution_count": 18,
      "outputs": [
        {
          "output_type": "stream",
          "text": [
            "Data imported successfully\n"
          ],
          "name": "stdout"
        },
        {
          "output_type": "execute_result",
          "data": {
            "text/html": [
              "<div>\n",
              "<style scoped>\n",
              "    .dataframe tbody tr th:only-of-type {\n",
              "        vertical-align: middle;\n",
              "    }\n",
              "\n",
              "    .dataframe tbody tr th {\n",
              "        vertical-align: top;\n",
              "    }\n",
              "\n",
              "    .dataframe thead th {\n",
              "        text-align: right;\n",
              "    }\n",
              "</style>\n",
              "<table border=\"1\" class=\"dataframe\">\n",
              "  <thead>\n",
              "    <tr style=\"text-align: right;\">\n",
              "      <th></th>\n",
              "      <th>Hours</th>\n",
              "      <th>Scores</th>\n",
              "    </tr>\n",
              "  </thead>\n",
              "  <tbody>\n",
              "    <tr>\n",
              "      <th>0</th>\n",
              "      <td>2.5</td>\n",
              "      <td>21</td>\n",
              "    </tr>\n",
              "    <tr>\n",
              "      <th>1</th>\n",
              "      <td>5.1</td>\n",
              "      <td>47</td>\n",
              "    </tr>\n",
              "    <tr>\n",
              "      <th>2</th>\n",
              "      <td>3.2</td>\n",
              "      <td>27</td>\n",
              "    </tr>\n",
              "    <tr>\n",
              "      <th>3</th>\n",
              "      <td>8.5</td>\n",
              "      <td>75</td>\n",
              "    </tr>\n",
              "    <tr>\n",
              "      <th>4</th>\n",
              "      <td>3.5</td>\n",
              "      <td>30</td>\n",
              "    </tr>\n",
              "    <tr>\n",
              "      <th>5</th>\n",
              "      <td>1.5</td>\n",
              "      <td>20</td>\n",
              "    </tr>\n",
              "    <tr>\n",
              "      <th>6</th>\n",
              "      <td>9.2</td>\n",
              "      <td>88</td>\n",
              "    </tr>\n",
              "    <tr>\n",
              "      <th>7</th>\n",
              "      <td>5.5</td>\n",
              "      <td>60</td>\n",
              "    </tr>\n",
              "    <tr>\n",
              "      <th>8</th>\n",
              "      <td>8.3</td>\n",
              "      <td>81</td>\n",
              "    </tr>\n",
              "    <tr>\n",
              "      <th>9</th>\n",
              "      <td>2.7</td>\n",
              "      <td>25</td>\n",
              "    </tr>\n",
              "  </tbody>\n",
              "</table>\n",
              "</div>"
            ],
            "text/plain": [
              "   Hours  Scores\n",
              "0    2.5      21\n",
              "1    5.1      47\n",
              "2    3.2      27\n",
              "3    8.5      75\n",
              "4    3.5      30\n",
              "5    1.5      20\n",
              "6    9.2      88\n",
              "7    5.5      60\n",
              "8    8.3      81\n",
              "9    2.7      25"
            ]
          },
          "metadata": {
            "tags": []
          },
          "execution_count": 18
        }
      ]
    },
    {
      "cell_type": "markdown",
      "metadata": {
        "id": "wyYmOYwf7fBX"
      },
      "source": [
        "plotting the score"
      ]
    },
    {
      "cell_type": "code",
      "metadata": {
        "id": "AnxQqv0h4tvG",
        "outputId": "85465b10-7a47-418b-bee0-20fce7cb63bf",
        "colab": {
          "base_uri": "https://localhost:8080/",
          "height": 295
        }
      },
      "source": [
        "data.plot(x='Hours', y='Scores', style='o')\r\n",
        "plt.title('Hours vs Percentage')\r\n",
        "plt.xlabel('Hours Studied')\r\n",
        "plt.ylabel('Percentage Score')\r\n",
        "plt.show()\r\n"
      ],
      "execution_count": 21,
      "outputs": [
        {
          "output_type": "display_data",
          "data": {
            "image/png": "[encoded data removed]",
            "text/plain": [
              "<Figure size 432x288 with 1 Axes>"
            ]
          },
          "metadata": {
            "tags": [],
            "needs_background": "light"
          }
        }
      ]
    },
    {
      "cell_type": "markdown",
      "metadata": {
        "id": "IHgilsgo74mV"
      },
      "source": [
        "data preprocessiong"
      ]
    },
    {
      "cell_type": "code",
      "metadata": {
        "id": "oYAeSuQm4yHt"
      },
      "source": [
        "x=data.iloc[:, :-1].values\r\n",
        "y=data.iloc[:, 1].values\r\n"
      ],
      "execution_count": 23,
      "outputs": []
    },
    {
      "cell_type": "markdown",
      "metadata": {
        "id": "36rQEEHP8EdK"
      },
      "source": [
        "splitting the data in training and testing sets\r\n"
      ]
    },
    {
      "cell_type": "code",
      "metadata": {
        "id": "QkNDTheK8WiL",
        "outputId": "582dcb8d-6abe-47de-d1ab-7c13b27d27f3",
        "colab": {
          "base_uri": "https://localhost:8080/"
        }
      },
      "source": [
        "x_train, x_test, y_train, y_test = train_test_split(x,y,test_size=0.2, random_state=0)\r\n",
        "regressor= LinearRegression()\r\n",
        "regressor.fit(x_train.reshape(-1,1), y_train)\r\n",
        "print(\"Model Training Completed\")\r\n"
      ],
      "execution_count": 25,
      "outputs": [
        {
          "output_type": "stream",
          "text": [
            "Model Training Completed\n"
          ],
          "name": "stdout"
        }
      ]
    },
    {
      "cell_type": "markdown",
      "metadata": {
        "id": "aJujU9d08YQn"
      },
      "source": [
        "data prediction"
      ]
    },
    {
      "cell_type": "markdown",
      "metadata": {
        "id": "DlniYtbD8l_E"
      },
      "source": [
        "testing the data"
      ]
    },
    {
      "cell_type": "code",
      "metadata": {
        "id": "XE6tiZHF41xg",
        "outputId": "03c61b7f-fec9-42c5-e47f-a63728e3b1f8",
        "colab": {
          "base_uri": "https://localhost:8080/"
        }
      },
      "source": [
        "print(x_test)"
      ],
      "execution_count": 26,
      "outputs": [
        {
          "output_type": "stream",
          "text": [
            "[[1.5]\n",
            " [3.2]\n",
            " [7.4]\n",
            " [2.5]\n",
            " [5.9]]\n"
          ],
          "name": "stdout"
        }
      ]
    },
    {
      "cell_type": "markdown",
      "metadata": {
        "id": "Mc-SCTpC8uAf"
      },
      "source": [
        "prediction"
      ]
    },
    {
      "cell_type": "code",
      "metadata": {
        "id": "FBM9EbYI44Xm"
      },
      "source": [
        "\r\n",
        "y_pred=regressor.predict(x_test)\r\n"
      ],
      "execution_count": 28,
      "outputs": []
    },
    {
      "cell_type": "markdown",
      "metadata": {
        "id": "xS_1TmG381eS"
      },
      "source": [
        "now comparing actual to predicted data"
      ]
    },
    {
      "cell_type": "code",
      "metadata": {
        "id": "I9omUslm49nZ",
        "outputId": "6ebb3b51-18a0-47f1-cbce-8a15d1111d3b",
        "colab": {
          "base_uri": "https://localhost:8080/",
          "height": 204
        }
      },
      "source": [
        "df=pd.DataFrame({'Actual':y_test, 'Predicted':y_pred})\r\n",
        "df"
      ],
      "execution_count": 30,
      "outputs": [
        {
          "output_type": "execute_result",
          "data": {
            "text/html": [
              "<div>\n",
              "<style scoped>\n",
              "    .dataframe tbody tr th:only-of-type {\n",
              "        vertical-align: middle;\n",
              "    }\n",
              "\n",
              "    .dataframe tbody tr th {\n",
              "        vertical-align: top;\n",
              "    }\n",
              "\n",
              "    .dataframe thead th {\n",
              "        text-align: right;\n",
              "    }\n",
              "</style>\n",
              "<table border=\"1\" class=\"dataframe\">\n",
              "  <thead>\n",
              "    <tr style=\"text-align: right;\">\n",
              "      <th></th>\n",
              "      <th>Actual</th>\n",
              "      <th>Predicted</th>\n",
              "    </tr>\n",
              "  </thead>\n",
              "  <tbody>\n",
              "    <tr>\n",
              "      <th>0</th>\n",
              "      <td>20</td>\n",
              "      <td>16.884145</td>\n",
              "    </tr>\n",
              "    <tr>\n",
              "      <th>1</th>\n",
              "      <td>27</td>\n",
              "      <td>33.732261</td>\n",
              "    </tr>\n",
              "    <tr>\n",
              "      <th>2</th>\n",
              "      <td>69</td>\n",
              "      <td>75.357018</td>\n",
              "    </tr>\n",
              "    <tr>\n",
              "      <th>3</th>\n",
              "      <td>30</td>\n",
              "      <td>26.794801</td>\n",
              "    </tr>\n",
              "    <tr>\n",
              "      <th>4</th>\n",
              "      <td>62</td>\n",
              "      <td>60.491033</td>\n",
              "    </tr>\n",
              "  </tbody>\n",
              "</table>\n",
              "</div>"
            ],
            "text/plain": [
              "   Actual  Predicted\n",
              "0      20  16.884145\n",
              "1      27  33.732261\n",
              "2      69  75.357018\n",
              "3      30  26.794801\n",
              "4      62  60.491033"
            ]
          },
          "metadata": {
            "tags": []
          },
          "execution_count": 30
        }
      ]
    },
    {
      "cell_type": "markdown",
      "metadata": {
        "id": "uxTIzbhX9ETG"
      },
      "source": [
        "estimating training and testing score"
      ]
    },
    {
      "cell_type": "code",
      "metadata": {
        "id": "zAgFWiNx5Eoh",
        "outputId": "dfd4d157-9eab-4775-cc3d-a7a14fa19064",
        "colab": {
          "base_uri": "https://localhost:8080/"
        }
      },
      "source": [
        "\r\n",
        "print(\"Training Score:\", regressor.score(x_train,y_train))\r\n",
        "print(\"Testing Score:\",regressor.score(x_test,y_test))\r\n"
      ],
      "execution_count": 31,
      "outputs": [
        {
          "output_type": "stream",
          "text": [
            "Training Score: 0.9515510725211553\n",
            "Testing Score: 0.9454906892105354\n"
          ],
          "name": "stdout"
        }
      ]
    },
    {
      "cell_type": "markdown",
      "metadata": {
        "id": "YBQVMTyG9cTD"
      },
      "source": [
        "plotting the bar chart"
      ]
    },
    {
      "cell_type": "code",
      "metadata": {
        "id": "cntOGgS35Hqc",
        "outputId": "92d6466a-cee0-4daf-caf8-be9372159d3a",
        "colab": {
          "base_uri": "https://localhost:8080/",
          "height": 316
        }
      },
      "source": [
        "df.plot(kind= 'bar',figsize=(5,5))\r\n",
        "plt.grid(which=  'major', linewidth= '0.5',color= 'blue')\r\n",
        "plt.grid(which= 'minor',linewidth= '0.5',color= 'green')\r\n",
        "plt.show()\r\n"
      ],
      "execution_count": 36,
      "outputs": [
        {
          "output_type": "display_data",
          "data": {
            "image/png": "[encoded data removed]",
            "text/plain": [
              "<Figure size 360x360 with 1 Axes>"
            ]
          },
          "metadata": {
            "tags": [],
            "needs_background": "light"
          }
        }
      ]
    },
    {
      "cell_type": "markdown",
      "metadata": {
        "id": "-RGhOvuf9vLU"
      },
      "source": [
        "testing the model with own data"
      ]
    },
    {
      "cell_type": "code",
      "metadata": {
        "id": "0oyr6fdm5MyK",
        "outputId": "58ceda4f-1f6f-44da-d368-9f7f484deb94",
        "colab": {
          "base_uri": "https://localhost:8080/"
        }
      },
      "source": [
        "hours=9.25\r\n",
        "test=np.array([hours])\r\n",
        "test= test.reshape(-1,1)\r\n",
        "own_pd=regressor.predict(test)\r\n",
        "print(\"No of Hours ={}\".format(hours))\r\n",
        "print(\" Predicted Score={}\".format(own_pd[0]))\r\n"
      ],
      "execution_count": 38,
      "outputs": [
        {
          "output_type": "stream",
          "text": [
            "No of Hours =9.25\n",
            " Predicted Score=93.69173248737539\n"
          ],
          "name": "stdout"
        }
      ]
    },
    {
      "cell_type": "markdown",
      "metadata": {
        "id": "mEnTx-LE98rA"
      },
      "source": [
        "lastly, evaluating the model"
      ]
    },
    {
      "cell_type": "code",
      "metadata": {
        "id": "TcJI7wJq5ON2",
        "outputId": "080a4da0-befd-4f4d-fedd-c008bb3f8169",
        "colab": {
          "base_uri": "https://localhost:8080/"
        }
      },
      "source": [
        "from sklearn import metrics\r\n",
        "print('Mean Absolute Error:',metrics.mean_absolute_error(y_test,y_pred))\r\n",
        "print('Mean Squared Error:' ,metrics.mean_squared_error(y_test,y_pred))\r\n",
        "print('Root Mean Squared Error', np.sqrt(metrics.mean_squared_error(y_test, y_pred)))\r\n",
        "print('R-2',metrics.r2_score(y_test,y_pred))\r\n"
      ],
      "execution_count": 39,
      "outputs": [
        {
          "output_type": "stream",
          "text": [
            "Mean Absolute Error: 4.183859899002982\n",
            "Mean Squared Error: 21.598769307217456\n",
            "Root Mean Squared Error 4.647447612100373\n",
            "R-2 0.9454906892105354\n"
          ],
          "name": "stdout"
        }
      ]
    }
  ]
}